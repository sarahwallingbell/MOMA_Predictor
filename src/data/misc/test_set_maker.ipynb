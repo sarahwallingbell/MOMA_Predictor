{
 "cells": [
  {
   "cell_type": "code",
   "execution_count": null,
   "metadata": {},
   "outputs": [],
   "source": [
    "##################\n",
    "# FILE NAMES\n",
    "##################\n",
    "\n",
    "original_file_name = \"gender_dataset.csv\"\n",
    "train_file_name = \"train_gender_dataset.csv\"\n",
    "test_file_name = \"test_gender_dataset.csv\""
   ]
  },
  {
   "cell_type": "code",
   "execution_count": null,
   "metadata": {},
   "outputs": [],
   "source": [
    "###################\n",
    "# Add data to files\n",
    "###################\n",
    "\n",
    "original_file = open(original_file_name, \"r\", encoding=\"utf-8\")\n",
    "train_file = open(train_file_name, \"w+\", encoding = \"utf-8\")\n",
    "test_file = open(test_file_name, \"w+\", encoding = \"utf-8\")\n",
    "\n",
    "lines = original_file.readlines()\n",
    "\n",
    "#takes 15% percent of data as test\n",
    "counter = 0\n",
    "for line in lines:\n",
    "    if (len(line) > 3):\n",
    "        if (counter == 14):\n",
    "\n",
    "            test_file.write(line)\n",
    "            counter = 0;\n",
    "        else:\n",
    "            train_file.write(line)\n",
    "            counter = counter + 1\n",
    "        \n",
    "train_file.close()\n",
    "test_file.close()"
   ]
  },
  {
   "cell_type": "code",
   "execution_count": null,
   "metadata": {},
   "outputs": [],
   "source": [
    "##################\n",
    "# FILE NAMES\n",
    "##################\n",
    "\n",
    "original_file_name = \"nationality_dataset.csv\"\n",
    "train_file_name = \"train_nationality_dataset.csv\"\n",
    "test_file_name = \"test_nationality_dataset.csv\""
   ]
  },
  {
   "cell_type": "code",
   "execution_count": null,
   "metadata": {},
   "outputs": [],
   "source": [
    "###################\n",
    "# Add data to files\n",
    "###################\n",
    "\n",
    "original_file = open(original_file_name, \"r\", encoding=\"utf-8\")\n",
    "train_file = open(train_file_name, \"w+\", encoding = \"utf-8\")\n",
    "test_file = open(test_file_name, \"w+\", encoding = \"utf-8\")\n",
    "\n",
    "lines = original_file.readlines()\n",
    "\n",
    "#takes 15% percent of data as test\n",
    "counter = 0\n",
    "for line in lines:\n",
    "    if (len(line) > 3):\n",
    "        if (counter == 14):\n",
    "\n",
    "            test_file.write(line)\n",
    "            counter = 0;\n",
    "        else:\n",
    "            train_file.write(line)\n",
    "            counter = counter + 1\n",
    "        \n",
    "train_file.close()\n",
    "test_file.close()"
   ]
  }
 ],
 "metadata": {
  "kernelspec": {
   "display_name": "Python 3",
   "language": "python",
   "name": "python3"
  },
  "language_info": {
   "codemirror_mode": {
    "name": "ipython",
    "version": 3
   },
   "file_extension": ".py",
   "mimetype": "text/x-python",
   "name": "python",
   "nbconvert_exporter": "python",
   "pygments_lexer": "ipython3",
   "version": "3.7.3"
  }
 },
 "nbformat": 4,
 "nbformat_minor": 2
}
